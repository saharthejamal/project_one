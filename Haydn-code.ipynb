{
 "cells": [
  {
   "cell_type": "markdown",
   "source": [
    "### Haydn's Branch Main Notebook"
   ],
   "metadata": {}
  },
  {
   "cell_type": "code",
   "execution_count": 359,
   "source": [
    "import pandas as pd\r\n",
    "import numpy as np\r\n",
    "import scipy.stats as st\r\n",
    "import matplotlib.pyplot as plt\r\n",
    "import seaborn as sns\r\n",
    "from matplotlib.pyplot import figure\r\n",
    "from scipy.stats import linregress\r\n",
    "\r\n",
    "top200 = \"datasets/Top200.csv\"\r\n",
    "topgenre = \"datasets/Top10000genre.csv\"\r\n",
    "\r\n",
    "top200_df = pd.read_csv(top200)\r\n",
    "topgenre_df = pd.read_csv(topgenre)\r\n",
    "\r\n",
    "top200_df = top200_df.drop(columns=['Index','Song ID','Chord','Valence','Duration (ms)','Tempo','Liveness','Acousticness','Speechiness'])\r\n",
    "topgenre_df = topgenre_df.drop(columns=['track_id','duration_ms','energy','instrumentalness','key','liveness','loudness','mode','speechiness','tempo','time_signature','valence'])\r\n",
    "# genre = []\r\n",
    "# genre = (pd.unique(topgenre_df['genre']))\r\n",
    "# genre200 = []\r\n",
    "# genre200 = (pd.unique(top200_df['Genre']))\r\n",
    "# genre200\r\n",
    "\r\n",
    "#   below code separates songs into multiple genres with their own line, ie: if a song is latin pop, it gets an entire song line for \r\n",
    "#   latin and pop\r\n",
    "\r\n",
    "# top200_df.columns\r\n",
    "# top200_df.Genre.value_counts()\r\n",
    "# # pop_genre = top200_df[top200_df['Genre'].str.contains('pop')]\r\n",
    "# # pop_genre = top200_df[(top200_df['Genre'].str.contains('pop')) & (top200_df['Genre'].str.len()<2)]\r\n",
    "# top200_df.Genre= top200_df.Genre.str.replace('[','')\r\n",
    "# top200_df.Genre= top200_df.Genre.str.replace(']','')\r\n",
    "# top200_df.Genre = top200_df.Genre.str.split(',')\r\n",
    "# top200_df = top200_df.explode('Genre')\r\n",
    "# top200_df.Genre = top200_df.Genre.str.replace(\"\\'\", \"\")\r\n",
    "\r\n",
    "# top200_df.head()\r\n",
    "\r\n",
    "\r\n",
    "# topgenre_df.info()\r\n"
   ],
   "outputs": [],
   "metadata": {}
  },
  {
   "cell_type": "code",
   "execution_count": 345,
   "source": [
    "# #sorting music for specific genre\r\n",
    "pop_genre = top200_df[top200_df.Genre=='pop']\r\n",
    "hiphop_genre = top200_df[top200_df.Genre=='hip hop']\r\n",
    "rap_genre = top200_df[top200_df.Genre=='rap']\r\n",
    "pop_genre.shape[0]\r\n"
   ],
   "outputs": [
    {
     "output_type": "execute_result",
     "data": {
      "text/plain": [
       "0"
      ]
     },
     "metadata": {},
     "execution_count": 345
    }
   ],
   "metadata": {}
  },
  {
   "cell_type": "code",
   "execution_count": 346,
   "source": [
    "#sorting music for word included (contains overlap)\r\n",
    "pop_any = top200_df[top200_df.Genre.str.contains('pop')]\r\n",
    "hiphop_any = top200_df[top200_df.Genre.str.contains('hip hop')]\r\n",
    "rap_any = top200_df[top200_df.Genre.str.contains('rap')]\r\n",
    "rb_any = top200_df[top200_df.Genre.str.contains('r&b')]\r\n",
    "country_any = top200_df[top200_df.Genre.str.contains('country')]\r\n",
    "rock_any = top200_df[top200_df.Genre.str.contains('rock')]\r\n",
    "alt_any = top200_df[top200_df.Genre.str.contains('alternative')]\r\n",
    "dance_any = top200_df[top200_df.Genre.str.contains('dance')]\r\n",
    "edm_any = top200_df[top200_df.Genre.str.contains('edm')]\r\n",
    "# house_any = top200_df[top200_df.Genre.str.contains('house')]\r\n",
    "# come back and group rest of unique categories\r\n",
    "jazz_any = top200_df[top200_df.Genre.str.contains('jazz')]\r\n",
    "indie_any = top200_df[top200_df.Genre.str.contains('indie')]\r\n",
    "itl_any = top200_df[top200_df.Genre.str.contains('italiano')]\r\n",
    "span_any = top200_df[top200_df.Genre.str.contains('reggaeton')]\r\n",
    "trap_any = top200_df[top200_df.Genre.str.contains('trap')]\r\n",
    "latin_any = top200_df[top200_df.Genre.str.contains('latin')]\r\n",
    "trap_any = top200_df[top200_df.Genre.str.contains('trap')]"
   ],
   "outputs": [],
   "metadata": {}
  },
  {
   "cell_type": "code",
   "execution_count": 347,
   "source": [
    "#setting other category \r\n",
    "genre_list = ['pop','hip hop','rap','r&b','country','rock','alternative','dance','edm','jazz','indie','italiano','reggaeton','trap','latin']\r\n",
    "pattern = '|'.join(genre_list)\r\n",
    "result = top200_df.loc[~(top200_df['Genre'].str.contains(pattern, case=False))]\r\n",
    "other = result\r\n",
    "other_genre = (pd.unique(result['Genre']))\r\n",
    "other.Genre.value_counts()"
   ],
   "outputs": [
    {
     "output_type": "execute_result",
     "data": {
      "text/plain": [
       "[]                                                                                                        75\n",
       "['brooklyn drill']                                                                                        30\n",
       "                                                                                                          11\n",
       "['australian psych', 'neo-psychedelic']                                                                    5\n",
       "['sertanejo', 'sertanejo universitario']                                                                   5\n",
       "['adult standards', 'easy listening', 'lounge']                                                            3\n",
       "['funk carioca']                                                                                           3\n",
       "['forro', 'piseiro']                                                                                       3\n",
       "['mariachi', 'nuevo regional mexicano', 'ranchera', 'regional mexican']                                    2\n",
       "['urbano espanol']                                                                                         2\n",
       "['forro']                                                                                                  2\n",
       "['brega funk', 'funk carioca']                                                                             2\n",
       "['basshall', 'francoton']                                                                                  2\n",
       "['comic']                                                                                                  2\n",
       "['piseiro']                                                                                                2\n",
       "['adult standards', 'american folk revival']                                                               1\n",
       "['banda', 'corrido', 'norteno', 'regional mexican']                                                        1\n",
       "['funk carioca', 'funk ostentacao', 'funk paulista']                                                       1\n",
       "['a cappella']                                                                                             1\n",
       "['hollywood', 'show tunes']                                                                                1\n",
       "['tropical house']                                                                                         1\n",
       "['chicago soul', 'classic soul', 'funk', 'motown', 'neo soul', 'quiet storm', 'soul', 'southern soul']     1\n",
       "['eurovision']                                                                                             1\n",
       "['funk 150 bpm', 'funk carioca']                                                                           1\n",
       "['jawaiian']                                                                                               1\n",
       "['funk bh', 'funk carioca']                                                                                1\n",
       "['dream smp']                                                                                              1\n",
       "['funk carioca', 'funk paulista', 'rave funk']                                                             1\n",
       "['eurovision', 'nouvelle chanson francaise']                                                               1\n",
       "['eurovision', 'oulu metal', 'trancecore']                                                                 1\n",
       "['south african house']                                                                                    1\n",
       "['electro house']                                                                                          1\n",
       "['soundtrack']                                                                                             1\n",
       "['musical advocacy']                                                                                       1\n",
       "['aussietronica']                                                                                          1\n",
       "['weirdcore']                                                                                              1\n",
       "['motown', 'soul']                                                                                         1\n",
       "['funk carioca', 'funk ostentacao']                                                                        1\n",
       "Name: Genre, dtype: int64"
      ]
     },
     "metadata": {},
     "execution_count": 347
    }
   ],
   "metadata": {}
  },
  {
   "cell_type": "code",
   "execution_count": 348,
   "source": [
    "genre = (pd.unique(top200_df['Genre']))\r\n",
    "# genre"
   ],
   "outputs": [],
   "metadata": {}
  },
  {
   "cell_type": "code",
   "execution_count": 349,
   "source": [
    "unique_artists = top200_df.Artist.nunique()\r\n",
    "unique_artists"
   ],
   "outputs": [
    {
     "output_type": "execute_result",
     "data": {
      "text/plain": [
       "716"
      ]
     },
     "metadata": {},
     "execution_count": 349
    }
   ],
   "metadata": {}
  },
  {
   "cell_type": "code",
   "execution_count": 350,
   "source": [
    "artist = top200_df.loc[:, ['Artist','Number of Times Charted']]\r\n",
    "\r\n",
    "artist = pd.DataFrame(artist.groupby([\"Artist\"]).sum())\r\n",
    "artist = artist.sort_values(by=['Number of Times Charted'],ascending=False).reset_index()\r\n",
    "# savage = artist.loc[artist['Artist']]\r\n",
    "top_artists = artist.head(25)\r\n",
    "top_artist_names = list(top_artists['Artist'])\r\n",
    "top_artist_names\r\n",
    "chart_data = list(top_artists['Number of Times Charted'])\r\n",
    "\r\n",
    "top_artists.head()"
   ],
   "outputs": [
    {
     "output_type": "execute_result",
     "data": {
      "text/html": [
       "<div>\n",
       "<style scoped>\n",
       "    .dataframe tbody tr th:only-of-type {\n",
       "        vertical-align: middle;\n",
       "    }\n",
       "\n",
       "    .dataframe tbody tr th {\n",
       "        vertical-align: top;\n",
       "    }\n",
       "\n",
       "    .dataframe thead th {\n",
       "        text-align: right;\n",
       "    }\n",
       "</style>\n",
       "<table border=\"1\" class=\"dataframe\">\n",
       "  <thead>\n",
       "    <tr style=\"text-align: right;\">\n",
       "      <th></th>\n",
       "      <th>Artist</th>\n",
       "      <th>Number of Times Charted</th>\n",
       "    </tr>\n",
       "  </thead>\n",
       "  <tbody>\n",
       "    <tr>\n",
       "      <th>0</th>\n",
       "      <td>Billie Eilish</td>\n",
       "      <td>432</td>\n",
       "    </tr>\n",
       "    <tr>\n",
       "      <th>1</th>\n",
       "      <td>Juice WRLD</td>\n",
       "      <td>431</td>\n",
       "    </tr>\n",
       "    <tr>\n",
       "      <th>2</th>\n",
       "      <td>Harry Styles</td>\n",
       "      <td>364</td>\n",
       "    </tr>\n",
       "    <tr>\n",
       "      <th>3</th>\n",
       "      <td>Ed Sheeran</td>\n",
       "      <td>314</td>\n",
       "    </tr>\n",
       "    <tr>\n",
       "      <th>4</th>\n",
       "      <td>Pop Smoke</td>\n",
       "      <td>308</td>\n",
       "    </tr>\n",
       "  </tbody>\n",
       "</table>\n",
       "</div>"
      ],
      "text/plain": [
       "          Artist  Number of Times Charted\n",
       "0  Billie Eilish                      432\n",
       "1     Juice WRLD                      431\n",
       "2   Harry Styles                      364\n",
       "3     Ed Sheeran                      314\n",
       "4      Pop Smoke                      308"
      ]
     },
     "metadata": {},
     "execution_count": 350
    }
   ],
   "metadata": {}
  },
  {
   "cell_type": "code",
   "execution_count": 352,
   "source": [
    "x_axis = np.arange(len(top_artists))\r\n",
    "chart_data = top_artists['Number of Times Charted']\r\n",
    "\r\n",
    "chart_numbers = list(top_artists['Number of Times Charted'])\r\n",
    "\r\n",
    "figure(figsize=(20,20), dpi=500)\r\n",
    "\r\n",
    "figure1,ax = plt.subplots()\r\n",
    "plt.bar(x_axis,chart_data,align='edge',width=0.5)\r\n",
    "\r\n",
    "ax.set_xticks(x_axis)\r\n",
    "plt.xticks(rotation=90)\r\n",
    "ax.set_xticklabels(top_artist_names)\r\n",
    "plt.annotate()\r\n",
    "# ax.bar_label(chart_numbers)\r\n",
    "\r\n",
    "plt.xlabel('Artist')\r\n",
    "plt.ylabel('Number of Times Charted')\r\n",
    "\r\n",
    "# fig.set_xticklabels(top_artist_names)\r\n",
    "#       figure out how to rotate the bar labels, and space them out\r\n",
    "# plt.xlabel(top_artist_names)"
   ],
   "outputs": [
    {
     "output_type": "execute_result",
     "data": {
      "text/plain": [
       "Text(0, 0.5, 'Number of Times Charted')"
      ]
     },
     "metadata": {},
     "execution_count": 352
    },
    {
     "output_type": "display_data",
     "data": {
      "text/plain": [
       "<Figure size 10000x10000 with 0 Axes>"
      ]
     },
     "metadata": {}
    },
    {
     "output_type": "display_data",
     "data": {
      "image/png": "[encoded data removed]",
      "text/plain": [
       "<Figure size 432x288 with 1 Axes>"
      ]
     },
     "metadata": {
      "needs_background": "light"
     }
    }
   ],
   "metadata": {}
  },
  {
   "cell_type": "code",
   "execution_count": 367,
   "source": [
    "plt.figure(figsize=(14,6))\r\n",
    "splot = sns.barplot(x= \"Artist\", y= \"Number of Times Charted\", data= top_artists)\r\n",
    "for p in splot.patches:\r\n",
    "    splot.annotate(format(p.get_height(), '.1f'),\r\n",
    "    (p.get_x() + p.get_width() / 2., p.get_height()),\r\n",
    "    ha = 'center', va = 'center',\r\n",
    "    xytext = (0,9),\r\n",
    "    textcoords = 'offset points')\r\n",
    "plt.xlabel('Artist')\r\n",
    "plt.ylabel('Number of Times Charted')\r\n",
    "plt.xticks(rotation=90)\r\n",
    "plt.title(\"Top 25 Charting Artists (1/1/20 to 8/31/21)\")"
   ],
   "outputs": [
    {
     "output_type": "execute_result",
     "data": {
      "text/plain": [
       "Text(0.5, 1.0, 'Top 25 Charting Artists (1/1/20 to 8/31/21)')"
      ]
     },
     "metadata": {},
     "execution_count": 367
    },
    {
     "output_type": "display_data",
     "data": {
      "image/png": "[encoded data removed]",
      "text/plain": [
       "<Figure size 1008x432 with 1 Axes>"
      ]
     },
     "metadata": {
      "needs_background": "light"
     }
    }
   ],
   "metadata": {}
  },
  {
   "cell_type": "code",
   "execution_count": null,
   "source": [
    "x_axis"
   ],
   "outputs": [],
   "metadata": {}
  },
  {
   "cell_type": "code",
   "execution_count": 353,
   "source": [
    "# number of times charted vs artist followers\r\n",
    "\r\n",
    "artist_data_df = top200_df.loc[:, ['Artist','Artist Followers','Number of Times Charted','Streams']]\r\n",
    "\r\n",
    "artist_data_df.drop_duplicates(inplace=True)\r\n",
    "artist_data_df.drop_duplicates(subset=['Artist'],inplace=True)\r\n",
    "artist_data_df.head()\r\n",
    "artist_data_df['Artist Followers'] = artist_data_df['Artist Followers'].str.replace(' ','')\r\n",
    "artist_data_df['Artist Followers'] = artist_data_df['Artist Followers'].str.replace('\"', '')\r\n",
    "artist_data_df['Artist Followers'] = artist_data_df['Artist Followers'].str.replace(',', '')\r\n",
    "artist_data_df['Artist Followers'] = artist_data_df['Artist Followers'].apply(pd.to_numeric)\r\n",
    "artist_data_df['Streams'] = artist_data_df['Streams'].str.replace(' ','')\r\n",
    "artist_data_df['Streams'] = artist_data_df['Streams'].str.replace('\"', '')\r\n",
    "artist_data_df['Streams'] = artist_data_df['Streams'].str.replace(',', '')\r\n",
    "artist_data_df['Streams'] = artist_data_df['Streams'].apply(pd.to_numeric)\r\n",
    "artist_data_df.head()\r\n",
    "\r\n",
    "artist_data_df = artist_data_df.reset_index()\r\n",
    "\r\n",
    "# artist_followers_df = artist_followers_df.sort_values(by=['Artist Followers'],ascending=False).reset_index()\r\n",
    "artist_data_df.head()"
   ],
   "outputs": [
    {
     "output_type": "execute_result",
     "data": {
      "text/html": [
       "<div>\n",
       "<style scoped>\n",
       "    .dataframe tbody tr th:only-of-type {\n",
       "        vertical-align: middle;\n",
       "    }\n",
       "\n",
       "    .dataframe tbody tr th {\n",
       "        vertical-align: top;\n",
       "    }\n",
       "\n",
       "    .dataframe thead th {\n",
       "        text-align: right;\n",
       "    }\n",
       "</style>\n",
       "<table border=\"1\" class=\"dataframe\">\n",
       "  <thead>\n",
       "    <tr style=\"text-align: right;\">\n",
       "      <th></th>\n",
       "      <th>index</th>\n",
       "      <th>Artist</th>\n",
       "      <th>Artist Followers</th>\n",
       "      <th>Number of Times Charted</th>\n",
       "      <th>Streams</th>\n",
       "    </tr>\n",
       "  </thead>\n",
       "  <tbody>\n",
       "    <tr>\n",
       "      <th>0</th>\n",
       "      <td>0</td>\n",
       "      <td>Måneskin</td>\n",
       "      <td>3377762.0</td>\n",
       "      <td>8</td>\n",
       "      <td>48633449</td>\n",
       "    </tr>\n",
       "    <tr>\n",
       "      <th>1</th>\n",
       "      <td>1</td>\n",
       "      <td>The Kid LAROI</td>\n",
       "      <td>2230022.0</td>\n",
       "      <td>3</td>\n",
       "      <td>47248719</td>\n",
       "    </tr>\n",
       "    <tr>\n",
       "      <th>2</th>\n",
       "      <td>2</td>\n",
       "      <td>Olivia Rodrigo</td>\n",
       "      <td>6266514.0</td>\n",
       "      <td>11</td>\n",
       "      <td>40162559</td>\n",
       "    </tr>\n",
       "    <tr>\n",
       "      <th>3</th>\n",
       "      <td>3</td>\n",
       "      <td>Ed Sheeran</td>\n",
       "      <td>83293380.0</td>\n",
       "      <td>5</td>\n",
       "      <td>37799456</td>\n",
       "    </tr>\n",
       "    <tr>\n",
       "      <th>4</th>\n",
       "      <td>4</td>\n",
       "      <td>Lil Nas X</td>\n",
       "      <td>5473565.0</td>\n",
       "      <td>1</td>\n",
       "      <td>33948454</td>\n",
       "    </tr>\n",
       "  </tbody>\n",
       "</table>\n",
       "</div>"
      ],
      "text/plain": [
       "   index          Artist  Artist Followers  Number of Times Charted   Streams\n",
       "0      0        Måneskin         3377762.0                        8  48633449\n",
       "1      1   The Kid LAROI         2230022.0                        3  47248719\n",
       "2      2  Olivia Rodrigo         6266514.0                       11  40162559\n",
       "3      3      Ed Sheeran        83293380.0                        5  37799456\n",
       "4      4       Lil Nas X         5473565.0                        1  33948454"
      ]
     },
     "metadata": {},
     "execution_count": 353
    }
   ],
   "metadata": {}
  },
  {
   "cell_type": "markdown",
   "source": [
    "Below, I found the artists with 'NaN' followers on Spotify and entered their current number of followers as of 9/18/2021. This may very slightly, but negligibly affect the outcome of the analysis."
   ],
   "metadata": {}
  },
  {
   "cell_type": "code",
   "execution_count": 354,
   "source": [
    "artist_data_df.at[710,'Artist Followers']=2329595.0\r\n",
    "artist_data_df.at[711,'Artist Followers']=654062.0\r\n",
    "artist_data_df.at[712,'Artist Followers']=556390.0\r\n",
    "artist_data_df.at[713,'Artist Followers']=295238.0\r\n",
    "artist_data_df.at[714,'Artist Followers']=3673189.0\r\n",
    "artist_data_df.at[715,'Artist Followers']=703373.0\r\n",
    "artist_data_df.head(10)"
   ],
   "outputs": [
    {
     "output_type": "execute_result",
     "data": {
      "text/html": [
       "<div>\n",
       "<style scoped>\n",
       "    .dataframe tbody tr th:only-of-type {\n",
       "        vertical-align: middle;\n",
       "    }\n",
       "\n",
       "    .dataframe tbody tr th {\n",
       "        vertical-align: top;\n",
       "    }\n",
       "\n",
       "    .dataframe thead th {\n",
       "        text-align: right;\n",
       "    }\n",
       "</style>\n",
       "<table border=\"1\" class=\"dataframe\">\n",
       "  <thead>\n",
       "    <tr style=\"text-align: right;\">\n",
       "      <th></th>\n",
       "      <th>index</th>\n",
       "      <th>Artist</th>\n",
       "      <th>Artist Followers</th>\n",
       "      <th>Number of Times Charted</th>\n",
       "      <th>Streams</th>\n",
       "    </tr>\n",
       "  </thead>\n",
       "  <tbody>\n",
       "    <tr>\n",
       "      <th>0</th>\n",
       "      <td>0</td>\n",
       "      <td>Måneskin</td>\n",
       "      <td>3377762.0</td>\n",
       "      <td>8</td>\n",
       "      <td>48633449</td>\n",
       "    </tr>\n",
       "    <tr>\n",
       "      <th>1</th>\n",
       "      <td>1</td>\n",
       "      <td>The Kid LAROI</td>\n",
       "      <td>2230022.0</td>\n",
       "      <td>3</td>\n",
       "      <td>47248719</td>\n",
       "    </tr>\n",
       "    <tr>\n",
       "      <th>2</th>\n",
       "      <td>2</td>\n",
       "      <td>Olivia Rodrigo</td>\n",
       "      <td>6266514.0</td>\n",
       "      <td>11</td>\n",
       "      <td>40162559</td>\n",
       "    </tr>\n",
       "    <tr>\n",
       "      <th>3</th>\n",
       "      <td>3</td>\n",
       "      <td>Ed Sheeran</td>\n",
       "      <td>83293380.0</td>\n",
       "      <td>5</td>\n",
       "      <td>37799456</td>\n",
       "    </tr>\n",
       "    <tr>\n",
       "      <th>4</th>\n",
       "      <td>4</td>\n",
       "      <td>Lil Nas X</td>\n",
       "      <td>5473565.0</td>\n",
       "      <td>1</td>\n",
       "      <td>33948454</td>\n",
       "    </tr>\n",
       "    <tr>\n",
       "      <th>5</th>\n",
       "      <td>6</td>\n",
       "      <td>Doja Cat</td>\n",
       "      <td>8640063.0</td>\n",
       "      <td>16</td>\n",
       "      <td>29356736</td>\n",
       "    </tr>\n",
       "    <tr>\n",
       "      <th>6</th>\n",
       "      <td>7</td>\n",
       "      <td>Rauw Alejandro</td>\n",
       "      <td>6080597.0</td>\n",
       "      <td>10</td>\n",
       "      <td>26951613</td>\n",
       "    </tr>\n",
       "    <tr>\n",
       "      <th>7</th>\n",
       "      <td>8</td>\n",
       "      <td>Bad Bunny</td>\n",
       "      <td>36142273.0</td>\n",
       "      <td>8</td>\n",
       "      <td>25030128</td>\n",
       "    </tr>\n",
       "    <tr>\n",
       "      <th>8</th>\n",
       "      <td>10</td>\n",
       "      <td>Dua Lipa</td>\n",
       "      <td>27142474.0</td>\n",
       "      <td>43</td>\n",
       "      <td>23518010</td>\n",
       "    </tr>\n",
       "    <tr>\n",
       "      <th>9</th>\n",
       "      <td>11</td>\n",
       "      <td>J Balvin, Maria Becerra</td>\n",
       "      <td>29051363.0</td>\n",
       "      <td>9</td>\n",
       "      <td>22405111</td>\n",
       "    </tr>\n",
       "  </tbody>\n",
       "</table>\n",
       "</div>"
      ],
      "text/plain": [
       "   index                   Artist  Artist Followers  Number of Times Charted  \\\n",
       "0      0                 Måneskin         3377762.0                        8   \n",
       "1      1            The Kid LAROI         2230022.0                        3   \n",
       "2      2           Olivia Rodrigo         6266514.0                       11   \n",
       "3      3               Ed Sheeran        83293380.0                        5   \n",
       "4      4                Lil Nas X         5473565.0                        1   \n",
       "5      6                 Doja Cat         8640063.0                       16   \n",
       "6      7           Rauw Alejandro         6080597.0                       10   \n",
       "7      8                Bad Bunny        36142273.0                        8   \n",
       "8     10                 Dua Lipa        27142474.0                       43   \n",
       "9     11  J Balvin, Maria Becerra        29051363.0                        9   \n",
       "\n",
       "    Streams  \n",
       "0  48633449  \n",
       "1  47248719  \n",
       "2  40162559  \n",
       "3  37799456  \n",
       "4  33948454  \n",
       "5  29356736  \n",
       "6  26951613  \n",
       "7  25030128  \n",
       "8  23518010  \n",
       "9  22405111  "
      ]
     },
     "metadata": {},
     "execution_count": 354
    }
   ],
   "metadata": {}
  },
  {
   "cell_type": "code",
   "execution_count": 355,
   "source": [
    "artist_streams_df = top200_df.loc[:, ['Artist','Streams']]\r\n",
    "\r\n",
    "artist_streams_df['Streams'] = artist_streams_df['Streams'].str.replace(' ','')\r\n",
    "artist_streams_df['Streams'] = artist_streams_df['Streams'].str.replace('\"', '')\r\n",
    "artist_streams_df['Streams'] = artist_streams_df['Streams'].str.replace(',', '')\r\n",
    "artist_streams_df['Streams'] = artist_streams_df['Streams'].apply(pd.to_numeric)\r\n",
    "\r\n",
    "artist_streams_df = pd.DataFrame(artist_streams_df.groupby(['Artist']).mean()).reset_index()\r\n",
    "\r\n",
    "artist_streams_df['Streams'] = artist_streams_df['Streams'].map(\"{:.9}\".format)\r\n",
    "\r\n",
    "artist_streams_df.head()"
   ],
   "outputs": [
    {
     "output_type": "execute_result",
     "data": {
      "text/html": [
       "<div>\n",
       "<style scoped>\n",
       "    .dataframe tbody tr th:only-of-type {\n",
       "        vertical-align: middle;\n",
       "    }\n",
       "\n",
       "    .dataframe tbody tr th {\n",
       "        vertical-align: top;\n",
       "    }\n",
       "\n",
       "    .dataframe thead th {\n",
       "        text-align: right;\n",
       "    }\n",
       "</style>\n",
       "<table border=\"1\" class=\"dataframe\">\n",
       "  <thead>\n",
       "    <tr style=\"text-align: right;\">\n",
       "      <th></th>\n",
       "      <th>Artist</th>\n",
       "      <th>Streams</th>\n",
       "    </tr>\n",
       "  </thead>\n",
       "  <tbody>\n",
       "    <tr>\n",
       "      <th>0</th>\n",
       "      <td>*NSYNC</td>\n",
       "      <td>6635128.0</td>\n",
       "    </tr>\n",
       "    <tr>\n",
       "      <th>1</th>\n",
       "      <td>13 Organisé, SCH, Kofs, Jul, Naps, Soso Maness...</td>\n",
       "      <td>5112572.0</td>\n",
       "    </tr>\n",
       "    <tr>\n",
       "      <th>2</th>\n",
       "      <td>187 Strassenbande, Bonez MC, Frauenarzt</td>\n",
       "      <td>5203700.0</td>\n",
       "    </tr>\n",
       "    <tr>\n",
       "      <th>3</th>\n",
       "      <td>21 Savage, Metro Boomin</td>\n",
       "      <td>6125221.92</td>\n",
       "    </tr>\n",
       "    <tr>\n",
       "      <th>4</th>\n",
       "      <td>24kGoldn</td>\n",
       "      <td>6279455.75</td>\n",
       "    </tr>\n",
       "  </tbody>\n",
       "</table>\n",
       "</div>"
      ],
      "text/plain": [
       "                                              Artist     Streams\n",
       "0                                             *NSYNC   6635128.0\n",
       "1  13 Organisé, SCH, Kofs, Jul, Naps, Soso Maness...   5112572.0\n",
       "2            187 Strassenbande, Bonez MC, Frauenarzt   5203700.0\n",
       "3                            21 Savage, Metro Boomin  6125221.92\n",
       "4                                           24kGoldn  6279455.75"
      ]
     },
     "metadata": {},
     "execution_count": 355
    }
   ],
   "metadata": {}
  },
  {
   "cell_type": "code",
   "execution_count": null,
   "source": [
    "\r\n",
    "# artist = top200_df.loc[:, ['Artist','Number of Times Charted']]\r\n",
    "\r\n",
    "# artist = pd.DataFrame(artist.groupby([\"Artist\"]).sum())\r\n",
    "# artist = artist.sort_values(by=['Number of Times Charted'],ascending=False).reset_index()\r\n",
    "\r\n",
    "# artist.head()"
   ],
   "outputs": [],
   "metadata": {}
  },
  {
   "cell_type": "code",
   "execution_count": 356,
   "source": [
    "artist_data_df = artist_data_df[['Artist','Artist Followers']]\r\n",
    "artist_data_df.head()"
   ],
   "outputs": [
    {
     "output_type": "execute_result",
     "data": {
      "text/html": [
       "<div>\n",
       "<style scoped>\n",
       "    .dataframe tbody tr th:only-of-type {\n",
       "        vertical-align: middle;\n",
       "    }\n",
       "\n",
       "    .dataframe tbody tr th {\n",
       "        vertical-align: top;\n",
       "    }\n",
       "\n",
       "    .dataframe thead th {\n",
       "        text-align: right;\n",
       "    }\n",
       "</style>\n",
       "<table border=\"1\" class=\"dataframe\">\n",
       "  <thead>\n",
       "    <tr style=\"text-align: right;\">\n",
       "      <th></th>\n",
       "      <th>Artist</th>\n",
       "      <th>Artist Followers</th>\n",
       "    </tr>\n",
       "  </thead>\n",
       "  <tbody>\n",
       "    <tr>\n",
       "      <th>0</th>\n",
       "      <td>Måneskin</td>\n",
       "      <td>3377762.0</td>\n",
       "    </tr>\n",
       "    <tr>\n",
       "      <th>1</th>\n",
       "      <td>The Kid LAROI</td>\n",
       "      <td>2230022.0</td>\n",
       "    </tr>\n",
       "    <tr>\n",
       "      <th>2</th>\n",
       "      <td>Olivia Rodrigo</td>\n",
       "      <td>6266514.0</td>\n",
       "    </tr>\n",
       "    <tr>\n",
       "      <th>3</th>\n",
       "      <td>Ed Sheeran</td>\n",
       "      <td>83293380.0</td>\n",
       "    </tr>\n",
       "    <tr>\n",
       "      <th>4</th>\n",
       "      <td>Lil Nas X</td>\n",
       "      <td>5473565.0</td>\n",
       "    </tr>\n",
       "  </tbody>\n",
       "</table>\n",
       "</div>"
      ],
      "text/plain": [
       "           Artist  Artist Followers\n",
       "0        Måneskin         3377762.0\n",
       "1   The Kid LAROI         2230022.0\n",
       "2  Olivia Rodrigo         6266514.0\n",
       "3      Ed Sheeran        83293380.0\n",
       "4       Lil Nas X         5473565.0"
      ]
     },
     "metadata": {},
     "execution_count": 356
    }
   ],
   "metadata": {}
  },
  {
   "cell_type": "code",
   "execution_count": 357,
   "source": [
    "new_artist_df = pd.merge(artist,artist_data_df,on='Artist')\r\n",
    "\r\n",
    "new_artist_df = pd.merge(new_artist_df,artist_streams_df,on='Artist')\r\n",
    "\r\n",
    "new_artist_df['Average Streams'] = new_artist_df['Streams']\r\n",
    "new_artist_df['Times Charted'] = new_artist_df['Number of Times Charted']\r\n",
    "new_artist_df = new_artist_df[['Artist','Times Charted','Artist Followers','Average Streams']]\r\n",
    "\r\n",
    "new_artist_df.head()\r\n"
   ],
   "outputs": [
    {
     "output_type": "execute_result",
     "data": {
      "text/html": [
       "<div>\n",
       "<style scoped>\n",
       "    .dataframe tbody tr th:only-of-type {\n",
       "        vertical-align: middle;\n",
       "    }\n",
       "\n",
       "    .dataframe tbody tr th {\n",
       "        vertical-align: top;\n",
       "    }\n",
       "\n",
       "    .dataframe thead th {\n",
       "        text-align: right;\n",
       "    }\n",
       "</style>\n",
       "<table border=\"1\" class=\"dataframe\">\n",
       "  <thead>\n",
       "    <tr style=\"text-align: right;\">\n",
       "      <th></th>\n",
       "      <th>Artist</th>\n",
       "      <th>Times Charted</th>\n",
       "      <th>Artist Followers</th>\n",
       "      <th>Average Streams</th>\n",
       "    </tr>\n",
       "  </thead>\n",
       "  <tbody>\n",
       "    <tr>\n",
       "      <th>0</th>\n",
       "      <td>Billie Eilish</td>\n",
       "      <td>432</td>\n",
       "      <td>47014200.0</td>\n",
       "      <td>5420873.0</td>\n",
       "    </tr>\n",
       "    <tr>\n",
       "      <th>1</th>\n",
       "      <td>Juice WRLD</td>\n",
       "      <td>431</td>\n",
       "      <td>19085118.0</td>\n",
       "      <td>5556766.8</td>\n",
       "    </tr>\n",
       "    <tr>\n",
       "      <th>2</th>\n",
       "      <td>Harry Styles</td>\n",
       "      <td>364</td>\n",
       "      <td>16112621.0</td>\n",
       "      <td>6416441.6</td>\n",
       "    </tr>\n",
       "    <tr>\n",
       "      <th>3</th>\n",
       "      <td>Ed Sheeran</td>\n",
       "      <td>314</td>\n",
       "      <td>83293380.0</td>\n",
       "      <td>8953396.44</td>\n",
       "    </tr>\n",
       "    <tr>\n",
       "      <th>4</th>\n",
       "      <td>Pop Smoke</td>\n",
       "      <td>308</td>\n",
       "      <td>6837946.0</td>\n",
       "      <td>5987386.79</td>\n",
       "    </tr>\n",
       "  </tbody>\n",
       "</table>\n",
       "</div>"
      ],
      "text/plain": [
       "          Artist  Times Charted  Artist Followers Average Streams\n",
       "0  Billie Eilish            432        47014200.0       5420873.0\n",
       "1     Juice WRLD            431        19085118.0       5556766.8\n",
       "2   Harry Styles            364        16112621.0       6416441.6\n",
       "3     Ed Sheeran            314        83293380.0      8953396.44\n",
       "4      Pop Smoke            308         6837946.0      5987386.79"
      ]
     },
     "metadata": {},
     "execution_count": 357
    }
   ],
   "metadata": {}
  },
  {
   "cell_type": "code",
   "execution_count": 358,
   "source": [
    "followers_values = new_artist_df['Artist Followers']\r\n",
    "times_charted_values = new_artist_df['Times Charted']\r\n",
    "streams_values = new_artist_df['Average Streams']\r\n"
   ],
   "outputs": [],
   "metadata": {}
  }
 ],
 "metadata": {
  "orig_nbformat": 4,
  "language_info": {
   "name": "python",
   "version": "3.8.8",
   "mimetype": "text/x-python",
   "codemirror_mode": {
    "name": "ipython",
    "version": 3
   },
   "pygments_lexer": "ipython3",
   "nbconvert_exporter": "python",
   "file_extension": ".py"
  },
  "kernelspec": {
   "name": "python3",
   "display_name": "Python 3.8.8 64-bit ('base': conda)"
  },
  "interpreter": {
   "hash": "696a868d263820d96c3e015462b3285736058cba07fad26566882fe661452fde"
  }
 },
 "nbformat": 4,
 "nbformat_minor": 2
}