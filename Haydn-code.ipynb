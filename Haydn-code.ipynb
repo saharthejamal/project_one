{
 "cells": [
  {
   "cell_type": "markdown",
   "source": [
    "### Haydn's Branch Main Notebook"
   ],
   "metadata": {}
  },
  {
   "cell_type": "code",
   "execution_count": 101,
   "source": [
    "import pandas as pd\r\n",
    "import numpy as np\r\n",
    "import scipy.stats as st\r\n",
    "import matplotlib.pyplot as plt\r\n",
    "from matplotlib.pyplot import figure\r\n",
    "top200 = \"datasets/Top200.csv\"\r\n",
    "topgenre = \"datasets/Top10000genre.csv\"\r\n",
    "\r\n",
    "top200_df = pd.read_csv(top200)\r\n",
    "topgenre_df = pd.read_csv(topgenre)\r\n",
    "\r\n",
    "top200_df = top200_df.drop(columns=['Index','Song ID','Chord','Valence','Duration (ms)','Tempo','Liveness','Acousticness','Speechiness'])\r\n",
    "topgenre_df = topgenre_df.drop(columns=['track_id','duration_ms','energy','instrumentalness','key','liveness','loudness','mode','speechiness','tempo','time_signature','valence'])\r\n",
    "# genre = []\r\n",
    "# genre = (pd.unique(topgenre_df['genre']))\r\n",
    "# genre200 = []\r\n",
    "# genre200 = (pd.unique(top200_df['Genre']))\r\n",
    "# genre200\r\n",
    "\r\n",
    "#   below code separates songs into multiple genres with their own line, ie: if a song is latin pop, it gets an entire song line for \r\n",
    "#   latin and pop\r\n",
    "\r\n",
    "# top200_df.columns\r\n",
    "# top200_df.Genre.value_counts()\r\n",
    "# # pop_genre = top200_df[top200_df['Genre'].str.contains('pop')]\r\n",
    "# # pop_genre = top200_df[(top200_df['Genre'].str.contains('pop')) & (top200_df['Genre'].str.len()<2)]\r\n",
    "# top200_df.Genre= top200_df.Genre.str.replace('[','')\r\n",
    "# top200_df.Genre= top200_df.Genre.str.replace(']','')\r\n",
    "# top200_df.Genre = top200_df.Genre.str.split(',')\r\n",
    "# top200_df = top200_df.explode('Genre')\r\n",
    "# top200_df.Genre = top200_df.Genre.str.replace(\"\\'\", \"\")\r\n",
    "\r\n",
    "# top200_df.head()\r\n",
    "\r\n",
    "\r\n",
    "# topgenre_df.info()\r\n"
   ],
   "outputs": [],
   "metadata": {}
  },
  {
   "cell_type": "code",
   "execution_count": null,
   "source": [
    "# #sorting music for specific genre\r\n",
    "pop_genre = top200_df[top200_df.Genre=='pop']\r\n",
    "hiphop_genre = top200_df[top200_df.Genre=='hip hop']\r\n",
    "rap_genre = top200_df[top200_df.Genre=='rap']\r\n",
    "pop_genre.shape[0]\r\n"
   ],
   "outputs": [],
   "metadata": {}
  },
  {
   "cell_type": "code",
   "execution_count": null,
   "source": [
    "#sorting music for word included (contains overlap)\r\n",
    "pop_any = top200_df[top200_df.Genre.str.contains('pop')]\r\n",
    "hiphop_any = top200_df[top200_df.Genre.str.contains('hip hop')]\r\n",
    "rap_any = top200_df[top200_df.Genre.str.contains('rap')]\r\n",
    "rb_any = top200_df[top200_df.Genre.str.contains('r&b')]\r\n",
    "country_any = top200_df[top200_df.Genre.str.contains('country')]\r\n",
    "rock_any = top200_df[top200_df.Genre.str.contains('rock')]\r\n",
    "alt_any = top200_df[top200_df.Genre.str.contains('alternative')]\r\n",
    "dance_any = top200_df[top200_df.Genre.str.contains('dance')]\r\n",
    "edm_any = top200_df[top200_df.Genre.str.contains('edm')]\r\n",
    "# house_any = top200_df[top200_df.Genre.str.contains('house')]\r\n",
    "# come back and group rest of unique categories\r\n",
    "jazz_any = top200_df[top200_df.Genre.str.contains('jazz')]\r\n",
    "indie_any = top200_df[top200_df.Genre.str.contains('indie')]\r\n",
    "itl_any = top200_df[top200_df.Genre.str.contains('italiano')]\r\n",
    "span_any = top200_df[top200_df.Genre.str.contains('reggaeton')]\r\n",
    "trap_any = top200_df[top200_df.Genre.str.contains('trap')]\r\n",
    "latin_any = top200_df[top200_df.Genre.str.contains('latin')]\r\n",
    "trap_any = top200_df[top200_df.Genre.str.contains('trap')]"
   ],
   "outputs": [],
   "metadata": {}
  },
  {
   "cell_type": "code",
   "execution_count": null,
   "source": [
    "#setting other category \r\n",
    "genre_list = ['pop','hip hop','rap','r&b','country','rock','alternative','dance','edm','jazz','indie','italiano','reggaeton','trap','latin']\r\n",
    "pattern = '|'.join(genre_list)\r\n",
    "result = top200_df.loc[~(top200_df['Genre'].str.contains(pattern, case=False))]\r\n",
    "other = result\r\n",
    "other_genre = (pd.unique(result['Genre']))\r\n",
    "other.Genre.value_counts()"
   ],
   "outputs": [],
   "metadata": {}
  },
  {
   "cell_type": "code",
   "execution_count": null,
   "source": [
    "genre = (pd.unique(top200_df['Genre']))\r\n",
    "# genre"
   ],
   "outputs": [],
   "metadata": {}
  },
  {
   "cell_type": "code",
   "execution_count": 99,
   "source": [
    "artist = top200_df.loc[:, ['Artist','Number of Times Charted']]\r\n",
    "\r\n",
    "artist = pd.DataFrame(artist.groupby([\"Artist\"]).sum())\r\n",
    "artist = artist.sort_values(by=['Number of Times Charted'],ascending=False).reset_index()\r\n",
    "# savage = artist.loc[artist['Artist']]\r\n",
    "top_artists = artist.head(25)\r\n",
    "top_artist_names = list(top_artists['Artist'])\r\n",
    "top_artist_names\r\n",
    "chart_data = list(top_artists['Number of Times Charted'])\r\n",
    "top_artist_names"
   ],
   "outputs": [
    {
     "output_type": "execute_result",
     "data": {
      "text/plain": [
       "['Billie Eilish',\n",
       " 'Juice WRLD',\n",
       " 'Harry Styles',\n",
       " 'Ed Sheeran',\n",
       " 'Pop Smoke',\n",
       " 'Ariana Grande',\n",
       " 'Dua Lipa',\n",
       " 'The Weeknd',\n",
       " 'Justin Bieber',\n",
       " 'Travis Scott',\n",
       " 'Post Malone',\n",
       " 'Bad Bunny',\n",
       " 'XXXTENTACION',\n",
       " 'Lewis Capaldi',\n",
       " 'Drake',\n",
       " 'Doja Cat',\n",
       " 'BTS',\n",
       " 'Taylor Swift',\n",
       " 'J Balvin',\n",
       " 'DaBaby',\n",
       " 'Olivia Rodrigo',\n",
       " 'Maroon 5',\n",
       " 'Queen',\n",
       " 'Roddy Ricch',\n",
       " 'Tones And I']"
      ]
     },
     "metadata": {},
     "execution_count": 99
    }
   ],
   "metadata": {}
  },
  {
   "cell_type": "code",
   "execution_count": 124,
   "source": [
    "x_axis = np.arange(len(top_artists))\r\n",
    "chart_data = top_artists['Number of Times Charted']\r\n",
    "figure(figsize=(5,3), dpi=150)\r\n",
    "\r\n",
    "plt.bar(x_axis,chart_data)\r\n",
    "\r\n",
    "#       figure out how to rotate the bar labels, and space them out\r\n",
    "# plt.xlabel(top_artist_names)"
   ],
   "outputs": [
    {
     "output_type": "execute_result",
     "data": {
      "text/plain": [
       "<BarContainer object of 25 artists>"
      ]
     },
     "metadata": {},
     "execution_count": 124
    },
    {
     "output_type": "display_data",
     "data": {
      "image/png": "[encoded data removed]",
      "text/plain": [
       "<Figure size 750x450 with 1 Axes>"
      ]
     },
     "metadata": {
      "needs_background": "light"
     }
    }
   ],
   "metadata": {}
  },
  {
   "cell_type": "code",
   "execution_count": null,
   "source": [
    "# build the plots for top artist charting appearances.\r\n",
    "plt.bar(x_axis,top_20_artists,alpha=1,align=\"center\")\r\n",
    "# plt.xticks(artist_names)"
   ],
   "outputs": [],
   "metadata": {}
  },
  {
   "cell_type": "code",
   "execution_count": null,
   "source": [],
   "outputs": [],
   "metadata": {}
  },
  {
   "cell_type": "markdown",
   "source": [],
   "metadata": {}
  }
 ],
 "metadata": {
  "orig_nbformat": 4,
  "language_info": {
   "name": "python",
   "version": "3.8.8",
   "mimetype": "text/x-python",
   "codemirror_mode": {
    "name": "ipython",
    "version": 3
   },
   "pygments_lexer": "ipython3",
   "nbconvert_exporter": "python",
   "file_extension": ".py"
  },
  "kernelspec": {
   "name": "python3",
   "display_name": "Python 3.8.8 64-bit ('base': conda)"
  },
  "interpreter": {
   "hash": "696a868d263820d96c3e015462b3285736058cba07fad26566882fe661452fde"
  }
 },
 "nbformat": 4,
 "nbformat_minor": 2
}