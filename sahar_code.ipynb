{
 "cells": [
  {
   "cell_type": "code",
   "execution_count": 57,
   "source": [
    "import pandas as pd\n",
    "import numpy as np\n",
    "import scipy.stats as st\n",
    "import matplotlib.pyplot as plt\n",
    "\n",
    "top200 = \"datasets/Top200.csv\"\n",
    "topgenre = \"datasets/Top10000genre.csv\"\n",
    "\n",
    "top200_df = pd.read_csv(top200)\n",
    "topgenre_df = pd.read_csv(topgenre)\n",
    "\n",
    "top200_df = top200_df.drop(columns=['Index','Song ID','Chord','Valence','Duration (ms)','Tempo','Liveness','Acousticness','Speechiness'])\n",
    "topgenre_df = topgenre_df.drop(columns=['track_id','duration_ms','energy','instrumentalness','key','liveness','loudness','mode','speechiness','tempo','time_signature','valence'])\n",
    "# genre = []\n",
    "# genre = (pd.unique(topgenre_df['genre']))\n",
    "# genre200 = []\n",
    "# genre200 = (pd.unique(top200_df['Genre']))\n",
    "# genre200\n",
    "\n",
    "# top200_df.columns\n",
    "# top200_df.Genre.value_counts()\n",
    "# pop_genre = top200_df[top200_df['Genre'].str.contains('pop')]\n",
    "# pop_genre = top200_df[(top200_df['Genre'].str.contains('pop')) & (top200_df['Genre'].str.len()<2)]\n",
    "top200_df.Genre= top200_df.Genre.str.replace('[','')\n",
    "top200_df.Genre= top200_df.Genre.str.replace(']','')\n",
    "top200_df.Genre = top200_df.Genre.str.split(',')\n",
    "top200_df = top200_df.explode('Genre')\n",
    "top200_df.Genre = top200_df.Genre.str.replace(\"\\'\", \"\")\n",
    "\n"
   ],
   "outputs": [
    {
     "output_type": "stream",
     "name": "stderr",
     "text": [
      "/var/folders/tn/m51dm4nd5wv2rw2867yd_l_h0000gn/T/ipykernel_28711/1424953187.py:24: FutureWarning: The default value of regex will change from True to False in a future version. In addition, single character regular expressions will *not* be treated as literal strings when regex=True.\n",
      "  top200_df.Genre= top200_df.Genre.str.replace('[','')\n",
      "/var/folders/tn/m51dm4nd5wv2rw2867yd_l_h0000gn/T/ipykernel_28711/1424953187.py:25: FutureWarning: The default value of regex will change from True to False in a future version. In addition, single character regular expressions will *not* be treated as literal strings when regex=True.\n",
      "  top200_df.Genre= top200_df.Genre.str.replace(']','')\n"
     ]
    }
   ],
   "metadata": {}
  },
  {
   "cell_type": "code",
   "execution_count": 59,
   "source": [
    "#sorting music for word included (contains overlap)\n",
    "pop_any = top200_df[top200_df.Genre.str.contains('pop')]\n",
    "pop_any[\"new_genre\"]=\"pop\"\n",
    "hiphop_any = top200_df[top200_df.Genre.str.contains('hip hop')]\n",
    "hiphop_any[\"new_genre\"]=\"hip hop\"\n",
    "rap_any = top200_df[top200_df.Genre.str.contains('rap')]\n",
    "rap_any[\"new_genre\"]=\"rap\"\n",
    "rb_any = top200_df[top200_df.Genre.str.contains('r&b')]\n",
    "rb_any[\"new_genre\"]=\"rb\"\n",
    "country_any = top200_df[top200_df.Genre.str.contains('country')]\n",
    "country_any[\"new_genre\"]=\"country\"\n",
    "rock_any = top200_df[top200_df.Genre.str.contains('rock')]\n",
    "rock_any[\"new_genre\"]=\"rock\"\n",
    "alt_any = top200_df[top200_df.Genre.str.contains('alternative')]\n",
    "alt_any[\"new_genre\"]=\"alt\"\n",
    "dance_any = top200_df[top200_df.Genre.str.contains('dance')]\n",
    "dance_any[\"new_genre\"]=\"dance\"\n",
    "edm_any = top200_df[top200_df.Genre.str.contains('edm')]\n",
    "edm_any[\"new_genre\"]=\"edm\"\n",
    "jazz_any = top200_df[top200_df.Genre.str.contains('jazz')]\n",
    "jazz_any[\"new_genre\"]=\"jazz\"\n",
    "indie_any = top200_df[top200_df.Genre.str.contains('indie')]\n",
    "indie_any[\"new_genre\"]=\"indie\"\n",
    "itl_any = top200_df[top200_df.Genre.str.contains('italiano')]\n",
    "itl_any[\"new_genre\"]=\"itl\"\n",
    "span_any = top200_df[top200_df.Genre.str.contains('reggaeton')]\n",
    "span_any[\"new_genre\"]=\"reggaeton\"\n",
    "trap_any = top200_df[top200_df.Genre.str.contains('trap')]\n",
    "trap_any[\"new_genre\"]=\"trap\"\n",
    "latin_any = top200_df[top200_df.Genre.str.contains('latin')]\n",
    "latin_any[\"new_genre\"]=\"latin\""
   ],
   "outputs": [
    {
     "output_type": "stream",
     "name": "stderr",
     "text": [
      "/var/folders/tn/m51dm4nd5wv2rw2867yd_l_h0000gn/T/ipykernel_28711/3151836930.py:3: SettingWithCopyWarning: \n",
      "A value is trying to be set on a copy of a slice from a DataFrame.\n",
      "Try using .loc[row_indexer,col_indexer] = value instead\n",
      "\n",
      "See the caveats in the documentation: https://pandas.pydata.org/pandas-docs/stable/user_guide/indexing.html#returning-a-view-versus-a-copy\n",
      "  pop_any[\"new_genre\"]=\"pop\"\n",
      "/var/folders/tn/m51dm4nd5wv2rw2867yd_l_h0000gn/T/ipykernel_28711/3151836930.py:5: SettingWithCopyWarning: \n",
      "A value is trying to be set on a copy of a slice from a DataFrame.\n",
      "Try using .loc[row_indexer,col_indexer] = value instead\n",
      "\n",
      "See the caveats in the documentation: https://pandas.pydata.org/pandas-docs/stable/user_guide/indexing.html#returning-a-view-versus-a-copy\n",
      "  hiphop_any[\"new_genre\"]=\"hip hop\"\n",
      "/var/folders/tn/m51dm4nd5wv2rw2867yd_l_h0000gn/T/ipykernel_28711/3151836930.py:7: SettingWithCopyWarning: \n",
      "A value is trying to be set on a copy of a slice from a DataFrame.\n",
      "Try using .loc[row_indexer,col_indexer] = value instead\n",
      "\n",
      "See the caveats in the documentation: https://pandas.pydata.org/pandas-docs/stable/user_guide/indexing.html#returning-a-view-versus-a-copy\n",
      "  rap_any[\"new_genre\"]=\"rap\"\n",
      "/var/folders/tn/m51dm4nd5wv2rw2867yd_l_h0000gn/T/ipykernel_28711/3151836930.py:9: SettingWithCopyWarning: \n",
      "A value is trying to be set on a copy of a slice from a DataFrame.\n",
      "Try using .loc[row_indexer,col_indexer] = value instead\n",
      "\n",
      "See the caveats in the documentation: https://pandas.pydata.org/pandas-docs/stable/user_guide/indexing.html#returning-a-view-versus-a-copy\n",
      "  rb_any[\"new_genre\"]=\"rb\"\n",
      "/var/folders/tn/m51dm4nd5wv2rw2867yd_l_h0000gn/T/ipykernel_28711/3151836930.py:11: SettingWithCopyWarning: \n",
      "A value is trying to be set on a copy of a slice from a DataFrame.\n",
      "Try using .loc[row_indexer,col_indexer] = value instead\n",
      "\n",
      "See the caveats in the documentation: https://pandas.pydata.org/pandas-docs/stable/user_guide/indexing.html#returning-a-view-versus-a-copy\n",
      "  country_any[\"new_genre\"]=\"country\"\n",
      "/var/folders/tn/m51dm4nd5wv2rw2867yd_l_h0000gn/T/ipykernel_28711/3151836930.py:13: SettingWithCopyWarning: \n",
      "A value is trying to be set on a copy of a slice from a DataFrame.\n",
      "Try using .loc[row_indexer,col_indexer] = value instead\n",
      "\n",
      "See the caveats in the documentation: https://pandas.pydata.org/pandas-docs/stable/user_guide/indexing.html#returning-a-view-versus-a-copy\n",
      "  rock_any[\"new_genre\"]=\"rock\"\n",
      "/var/folders/tn/m51dm4nd5wv2rw2867yd_l_h0000gn/T/ipykernel_28711/3151836930.py:15: SettingWithCopyWarning: \n",
      "A value is trying to be set on a copy of a slice from a DataFrame.\n",
      "Try using .loc[row_indexer,col_indexer] = value instead\n",
      "\n",
      "See the caveats in the documentation: https://pandas.pydata.org/pandas-docs/stable/user_guide/indexing.html#returning-a-view-versus-a-copy\n",
      "  alt_any[\"new_genre\"]=\"alt\"\n",
      "/var/folders/tn/m51dm4nd5wv2rw2867yd_l_h0000gn/T/ipykernel_28711/3151836930.py:17: SettingWithCopyWarning: \n",
      "A value is trying to be set on a copy of a slice from a DataFrame.\n",
      "Try using .loc[row_indexer,col_indexer] = value instead\n",
      "\n",
      "See the caveats in the documentation: https://pandas.pydata.org/pandas-docs/stable/user_guide/indexing.html#returning-a-view-versus-a-copy\n",
      "  dance_any[\"new_genre\"]=\"dance\"\n",
      "/var/folders/tn/m51dm4nd5wv2rw2867yd_l_h0000gn/T/ipykernel_28711/3151836930.py:19: SettingWithCopyWarning: \n",
      "A value is trying to be set on a copy of a slice from a DataFrame.\n",
      "Try using .loc[row_indexer,col_indexer] = value instead\n",
      "\n",
      "See the caveats in the documentation: https://pandas.pydata.org/pandas-docs/stable/user_guide/indexing.html#returning-a-view-versus-a-copy\n",
      "  edm_any[\"new_genre\"]=\"edm\"\n",
      "/var/folders/tn/m51dm4nd5wv2rw2867yd_l_h0000gn/T/ipykernel_28711/3151836930.py:21: SettingWithCopyWarning: \n",
      "A value is trying to be set on a copy of a slice from a DataFrame.\n",
      "Try using .loc[row_indexer,col_indexer] = value instead\n",
      "\n",
      "See the caveats in the documentation: https://pandas.pydata.org/pandas-docs/stable/user_guide/indexing.html#returning-a-view-versus-a-copy\n",
      "  jazz_any[\"new_genre\"]=\"jazz\"\n",
      "/var/folders/tn/m51dm4nd5wv2rw2867yd_l_h0000gn/T/ipykernel_28711/3151836930.py:23: SettingWithCopyWarning: \n",
      "A value is trying to be set on a copy of a slice from a DataFrame.\n",
      "Try using .loc[row_indexer,col_indexer] = value instead\n",
      "\n",
      "See the caveats in the documentation: https://pandas.pydata.org/pandas-docs/stable/user_guide/indexing.html#returning-a-view-versus-a-copy\n",
      "  indie_any[\"new_genre\"]=\"indie\"\n",
      "/var/folders/tn/m51dm4nd5wv2rw2867yd_l_h0000gn/T/ipykernel_28711/3151836930.py:25: SettingWithCopyWarning: \n",
      "A value is trying to be set on a copy of a slice from a DataFrame.\n",
      "Try using .loc[row_indexer,col_indexer] = value instead\n",
      "\n",
      "See the caveats in the documentation: https://pandas.pydata.org/pandas-docs/stable/user_guide/indexing.html#returning-a-view-versus-a-copy\n",
      "  itl_any[\"new_genre\"]=\"itl\"\n",
      "/var/folders/tn/m51dm4nd5wv2rw2867yd_l_h0000gn/T/ipykernel_28711/3151836930.py:27: SettingWithCopyWarning: \n",
      "A value is trying to be set on a copy of a slice from a DataFrame.\n",
      "Try using .loc[row_indexer,col_indexer] = value instead\n",
      "\n",
      "See the caveats in the documentation: https://pandas.pydata.org/pandas-docs/stable/user_guide/indexing.html#returning-a-view-versus-a-copy\n",
      "  span_any[\"new_genre\"]=\"reggaeton\"\n",
      "/var/folders/tn/m51dm4nd5wv2rw2867yd_l_h0000gn/T/ipykernel_28711/3151836930.py:29: SettingWithCopyWarning: \n",
      "A value is trying to be set on a copy of a slice from a DataFrame.\n",
      "Try using .loc[row_indexer,col_indexer] = value instead\n",
      "\n",
      "See the caveats in the documentation: https://pandas.pydata.org/pandas-docs/stable/user_guide/indexing.html#returning-a-view-versus-a-copy\n",
      "  trap_any[\"new_genre\"]=\"trap\"\n",
      "/var/folders/tn/m51dm4nd5wv2rw2867yd_l_h0000gn/T/ipykernel_28711/3151836930.py:31: SettingWithCopyWarning: \n",
      "A value is trying to be set on a copy of a slice from a DataFrame.\n",
      "Try using .loc[row_indexer,col_indexer] = value instead\n",
      "\n",
      "See the caveats in the documentation: https://pandas.pydata.org/pandas-docs/stable/user_guide/indexing.html#returning-a-view-versus-a-copy\n",
      "  latin_any[\"new_genre\"]=\"latin\"\n"
     ]
    }
   ],
   "metadata": {}
  },
  {
   "cell_type": "code",
   "execution_count": 60,
   "source": [
    "#setting other category \n",
    "genre_list = ['pop','hip hop','rap','r&b','country','rock','alternative','dance','edm','jazz','indie','italiano','reggaeton','trap','latin']\n",
    "pattern = '|'.join(genre_list)\n",
    "result = top200_df.loc[~(top200_df['Genre'].str.contains(pattern, case=False))]\n",
    "other = result\n",
    "other_genre = (pd.unique(result['Genre']))"
   ],
   "outputs": [],
   "metadata": {}
  },
  {
   "cell_type": "code",
   "execution_count": 64,
   "source": [
    "df_list = [pop_any,hiphop_any,rap_any,rb_any,country_any,rock_any,alt_any,dance_any,edm_any,jazz_any,indie_any,itl_any,span_any,trap_any,latin_any]\n",
    "new_genre_df = pd.concat(df_list)\n",
    "new_genre_df.Streams = new_genre_df.Streams.str.replace('\"', '')\n",
    "new_genre_df.Streams = new_genre_df.Streams.str.replace(',', '')\n",
    "new_genre_df[\"Streams\"] = new_genre_df[[\"Streams\"]].apply(pd.to_numeric)\n",
    "\n",
    "new_genre_group = new_genre_df.groupby('new_genre')['Streams'].mean().reset_index()\n"
   ],
   "outputs": [],
   "metadata": {}
  },
  {
   "cell_type": "code",
   "execution_count": null,
   "source": [
    "\n",
    "%matplotlib inline \n",
    "%matplotlib notebook\n",
    "import pandas as pd\n",
    "import numpy as np\n",
    "\n",
    "num_pop = pop_any.Genre.count()\n",
    "num_rap = rap_any.Genre.count()\n",
    "num_hiphop = hiphop_any.Genre.count()\n",
    "num_rb = rb_any.Genre.count()\n",
    "num_country = country_any.Genre.count()\n",
    "num_rock = rock_any.Genre.count()\n",
    "num_alt = alt_any.Genre.count()\n",
    "num_dance = dance_any.Genre.count()\n",
    "num_edm = edm_any.Genre.count()\n",
    "num_jazz = jazz_any.Genre.count()\n",
    "num_indie = indie_any.Genre.count()\n",
    "num_itl = itl_any.Genre.count()\n",
    "num_span = span_any.Genre.count()\n",
    "num_trap = trap_any.Genre.count()\n",
    "num_latin = latin_any.Genre.count()\n",
    "num_other = other.Genre.count()\n"
   ],
   "outputs": [],
   "metadata": {}
  },
  {
   "cell_type": "code",
   "execution_count": null,
   "source": [
    "genre_df = pd.DataFrame ({'Genre':['Pop','Hip Hop','Rap','R&B','Rock','Dance','EDM','Indie','Reggaeton','Trap','Latin','Other'],\n",
    "'frequency':[num_pop, num_hiphop,num_rap,num_rb,num_rock,num_dance,num_edm,num_indie,num_span,num_trap,num_latin,num_other]})\n",
    "genre_df.head()\n"
   ],
   "outputs": [],
   "metadata": {}
  },
  {
   "cell_type": "code",
   "execution_count": null,
   "source": [
    "import pandas as pd\n",
    "import matplotlib.pyplot as plt \n",
    "\n",
    "plot = genre_df.plot.pie(y='frequency', figsize=(15, 15))\n",
    "\n",
    "plt.title(\"Genre\")"
   ],
   "outputs": [],
   "metadata": {
    "scrolled": false
   }
  },
  {
   "cell_type": "code",
   "execution_count": null,
   "source": [
    "# Color coated scatter plot with stream comparison + genre\n",
    "top200_df.Streams = top200_df.Streams.str.replace('\"', '')\n",
    "top200_df.Streams = top200_df.Streams.str.replace(',', '')\n"
   ],
   "outputs": [],
   "metadata": {
    "scrolled": true
   }
  },
  {
   "cell_type": "code",
   "execution_count": null,
   "source": [
    "top200_df[\"Streams\"] = top200_df[[\"Streams\"]].apply(pd.to_numeric)"
   ],
   "outputs": [],
   "metadata": {}
  },
  {
   "cell_type": "markdown",
   "source": [],
   "metadata": {}
  },
  {
   "cell_type": "code",
   "execution_count": 65,
   "source": [
    "%matplotlib inline\n",
    "import matplotlib.pyplot as plt\n",
    "import pandas as pd\n",
    "x_axis = new_genre_group['Streams']\n",
    "y_axis = new_genre_group['new_genre']\n",
    "plt.scatter(x_axis, y_axis)\n"
   ],
   "outputs": [
    {
     "output_type": "execute_result",
     "data": {
      "text/plain": [
       "<matplotlib.collections.PathCollection at 0x7fb8e0438df0>"
      ]
     },
     "metadata": {},
     "execution_count": 65
    },
    {
     "output_type": "display_data",
     "data": {
      "text/plain": [
       "<Figure size 432x288 with 1 Axes>"
      ],
      "image/png": "[encoded data removed]"
     },
     "metadata": {
      "needs_background": "light"
     }
    }
   ],
   "metadata": {}
  },
  {
   "cell_type": "code",
   "execution_count": null,
   "source": [],
   "outputs": [],
   "metadata": {}
  },
  {
   "cell_type": "code",
   "execution_count": null,
   "source": [
    "# These artist are multi genre artist (not all data/ artist specific)  "
   ],
   "outputs": [],
   "metadata": {}
  },
  {
   "cell_type": "code",
   "execution_count": null,
   "source": [
    "# How many weeks a song is on a chart vs. number of streams (scatter plot) data of top 50 songs that ranked #1 (write axis to hover for song information)\n",
    "# From date of song release to how long it took to hit the chart\n"
   ],
   "outputs": [],
   "metadata": {}
  }
 ],
 "metadata": {
  "interpreter": {
   "hash": "aee8b7b246df8f9039afb4144a1f6fd8d2ca17a180786b69acc140d282b71a49"
  },
  "kernelspec": {
   "display_name": "Python 3 (ipykernel)",
   "language": "python",
   "name": "python3"
  },
  "language_info": {
   "codemirror_mode": {
    "name": "ipython",
    "version": 3
   },
   "file_extension": ".py",
   "mimetype": "text/x-python",
   "name": "python",
   "nbconvert_exporter": "python",
   "pygments_lexer": "ipython3",
   "version": "3.9.6"
  }
 },
 "nbformat": 4,
 "nbformat_minor": 2
}