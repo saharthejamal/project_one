{
 "cells": [
  {
   "cell_type": "markdown",
   "source": [
    "### Haydn's Branch Main Notebook"
   ],
   "metadata": {}
  },
  {
   "cell_type": "code",
   "execution_count": 12,
   "source": [
    "import pandas as pd\n",
    "import numpy as np\n",
    "import scipy.stats as st\n",
    "import matplotlib.pyplot as plt\n",
    "\n",
    "top200 = \"datasets/Top200.csv\"\n",
    "topgenre = \"datasets/Top10000genre.csv\"\n",
    "\n",
    "top200_df = pd.read_csv(top200)\n",
    "topgenre_df = pd.read_csv(topgenre)\n",
    "\n",
    "top200_df = top200_df.drop(columns=['Index','Song ID','Chord','Valence','Duration (ms)','Tempo','Liveness','Acousticness','Speechiness'])\n",
    "topgenre_df = topgenre_df.drop(columns=['track_id','duration_ms','energy','instrumentalness','key','liveness','loudness','mode','speechiness','tempo','time_signature','valence'])\n",
    "# genre = []\n",
    "# genre = (pd.unique(topgenre_df['genre']))\n",
    "# genre200 = []\n",
    "# genre200 = (pd.unique(top200_df['Genre']))\n",
    "# genre200\n",
    "\n",
    "top200_df.columns\n",
    "top200_df.Genre.value_counts()\n",
    "# pop_genre = top200_df[top200_df['Genre'].str.contains('pop')]\n",
    "# pop_genre = top200_df[(top200_df['Genre'].str.contains('pop')) & (top200_df['Genre'].str.len()<2)]\n",
    "top200_df.Genre= top200_df.Genre.str.replace('[','')\n",
    "top200_df.Genre= top200_df.Genre.str.replace(']','')\n",
    "top200_df.Genre = top200_df.Genre.str.split(',')\n",
    "top200_df = top200_df.explode('Genre')\n",
    "top200_df.Genre = top200_df.Genre.str.replace(\"\\'\", \"\")\n",
    "\n",
    "# top200_df.head()\n",
    "\n",
    "\n",
    "# topgenre_df.info()\n"
   ],
   "outputs": [
    {
     "output_type": "stream",
     "name": "stderr",
     "text": [
      "<ipython-input-12-bd9e0bf0844e>:24: FutureWarning: The default value of regex will change from True to False in a future version. In addition, single character regular expressions will*not* be treated as literal strings when regex=True.\n",
      "  top200_df.Genre= top200_df.Genre.str.replace('[','')\n",
      "<ipython-input-12-bd9e0bf0844e>:25: FutureWarning: The default value of regex will change from True to False in a future version. In addition, single character regular expressions will*not* be treated as literal strings when regex=True.\n",
      "  top200_df.Genre= top200_df.Genre.str.replace(']','')\n"
     ]
    }
   ],
   "metadata": {}
  },
  {
   "cell_type": "code",
   "execution_count": 13,
   "source": [
    "# #sorting music for specific genre\r\n",
    "pop_genre = top200_df[top200_df.Genre=='pop']\r\n",
    "hiphop_genre = top200_df[top200_df.Genre=='hip hop']\r\n",
    "rap_genre = top200_df[top200_df.Genre=='rap']\r\n",
    "pop_genre.shape[0]\r\n"
   ],
   "outputs": [
    {
     "output_type": "execute_result",
     "data": {
      "text/plain": [
       "100"
      ]
     },
     "metadata": {},
     "execution_count": 13
    }
   ],
   "metadata": {}
  },
  {
   "cell_type": "code",
   "execution_count": 14,
   "source": [
    "#sorting music for word included (contains overlap)\r\n",
    "pop_any = top200_df[top200_df.Genre.str.contains('pop')]\r\n",
    "hiphop_any = top200_df[top200_df.Genre.str.contains('hip hop')]\r\n",
    "rap_any = top200_df[top200_df.Genre.str.contains('rap')]\r\n",
    "rb_any = top200_df[top200_df.Genre.str.contains('r&b')]\r\n",
    "country_any = top200_df[top200_df.Genre.str.contains('country')]\r\n",
    "rock_any = top200_df[top200_df.Genre.str.contains('rock')]\r\n",
    "alt_any = top200_df[top200_df.Genre.str.contains('alternative')]\r\n",
    "dance_any = top200_df[top200_df.Genre.str.contains('dance')]\r\n",
    "edm_any = top200_df[top200_df.Genre.str.contains('edm')]\r\n",
    "# house_any = top200_df[top200_df.Genre.str.contains('house')]\r\n",
    "# come back and group rest of unique categories\r\n",
    "jazz_any = top200_df[top200_df.Genre.str.contains('jazz')]\r\n",
    "indie_any = top200_df[top200_df.Genre.str.contains('indie')]\r\n",
    "itl_any = top200_df[top200_df.Genre.str.contains('italiano')]\r\n",
    "span_any = top200_df[top200_df.Genre.str.contains('reggaeton')]\r\n",
    "trap_any = top200_df[top200_df.Genre.str.contains('trap')]\r\n",
    "latin_any = top200_df[top200_df.Genre.str.contains('latin')]\r\n",
    "trap_any = top200_df[top200_df.Genre.str.contains('trap')]"
   ],
   "outputs": [],
   "metadata": {}
  },
  {
   "cell_type": "code",
   "execution_count": 15,
   "source": [
    "#setting other category \r\n",
    "genre_list = ['pop','hip hop','rap','r&b','country','rock','alternative','dance','edm','jazz','indie','italiano','reggaeton','trap','latin']\r\n",
    "pattern = '|'.join(genre_list)\r\n",
    "result = top200_df.loc[~(top200_df['Genre'].str.contains(pattern, case=False))]\r\n",
    "other = result\r\n",
    "other_genre = (pd.unique(result['Genre']))\r\n",
    "other.Genre.value_counts()"
   ],
   "outputs": [
    {
     "output_type": "execute_result",
     "data": {
      "text/plain": [
       "                    75\n",
       " tropical house     44\n",
       "brooklyn drill      37\n",
       "alt z               20\n",
       "adult standards     18\n",
       "                    ..\n",
       "musical advocacy     1\n",
       "jawaiian             1\n",
       "chicago drill        1\n",
       " new romantic        1\n",
       " sertanejo           1\n",
       "Name: Genre, Length: 136, dtype: int64"
      ]
     },
     "metadata": {},
     "execution_count": 15
    }
   ],
   "metadata": {}
  },
  {
   "cell_type": "code",
   "execution_count": 31,
   "source": [
    "genre = (pd.unique(top200_df['Genre']))\r\n",
    "# genre"
   ],
   "outputs": [],
   "metadata": {}
  },
  {
   "cell_type": "code",
   "execution_count": 65,
   "source": [
    "# artist appearances on charts group by artist\r\n",
    "grouped_artists = top200_df.groupby(['Artist'])\r\n",
    "\r\n",
    "\r\n",
    "artist_counts = top200_df.Artist.value_counts()\r\n",
    "\r\n",
    "top_20_artists = artist_counts.head(20)\r\n",
    "artist_names = top_20_artists.unique()"
   ],
   "outputs": [],
   "metadata": {}
  },
  {
   "cell_type": "code",
   "execution_count": 68,
   "source": [
    "artist_comparison = grouped_artists['Number of Times Charted'].sum()\r\n",
    "artist_comparison\r\n",
    "# top_artists = artist_comparison.sort_values(['Number of Times Charted'],ascending=False)\r\n",
    "# top_artists"
   ],
   "outputs": [
    {
     "output_type": "execute_result",
     "data": {
      "text/plain": [
       "Artist\n",
       "*NSYNC                                                                    4\n",
       "13 Organisé, SCH, Kofs, Jul, Naps, Soso Maness, Elams, Solda, Houari     36\n",
       "187 Strassenbande, Bonez MC, Frauenarzt                                   2\n",
       "21 Savage, Metro Boomin                                                 100\n",
       "24kGoldn                                                                 72\n",
       "                                                                       ... \n",
       "iann dior                                                                 4\n",
       "jxdn                                                                      1\n",
       "salem ilese                                                              42\n",
       "sangiovanni                                                               8\n",
       "twocolors                                                                 8\n",
       "Name: Number of Times Charted, Length: 716, dtype: int64"
      ]
     },
     "metadata": {},
     "execution_count": 68
    }
   ],
   "metadata": {}
  },
  {
   "cell_type": "code",
   "execution_count": 64,
   "source": [
    "x_axis = np.arange(len(top_20_artists))\r\n",
    "plt.bar(x_axis,top_20_artists,alpha=1,align=\"center\")\r\n",
    "# plt.xticks(artist_names)"
   ],
   "outputs": [
    {
     "output_type": "execute_result",
     "data": {
      "text/plain": [
       "<BarContainer object of 20 artists>"
      ]
     },
     "metadata": {},
     "execution_count": 64
    },
    {
     "output_type": "display_data",
     "data": {
      "image/png": "[encoded data removed]",
      "text/plain": [
       "<Figure size 432x288 with 1 Axes>"
      ]
     },
     "metadata": {
      "needs_background": "light"
     }
    }
   ],
   "metadata": {}
  },
  {
   "cell_type": "code",
   "execution_count": null,
   "source": [],
   "outputs": [],
   "metadata": {}
  },
  {
   "cell_type": "markdown",
   "source": [],
   "metadata": {}
  }
 ],
 "metadata": {
  "orig_nbformat": 4,
  "language_info": {
   "name": "python",
   "version": "3.8.8",
   "mimetype": "text/x-python",
   "codemirror_mode": {
    "name": "ipython",
    "version": 3
   },
   "pygments_lexer": "ipython3",
   "nbconvert_exporter": "python",
   "file_extension": ".py"
  },
  "kernelspec": {
   "name": "python3",
   "display_name": "Python 3.8.8 64-bit ('base': conda)"
  },
  "interpreter": {
   "hash": "696a868d263820d96c3e015462b3285736058cba07fad26566882fe661452fde"
  }
 },
 "nbformat": 4,
 "nbformat_minor": 2
}