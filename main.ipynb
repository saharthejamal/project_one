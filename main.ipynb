{
 "cells": [
  {
   "cell_type": "code",
   "execution_count": null,
   "source": [],
   "outputs": [],
   "metadata": {}
  },
  {
   "cell_type": "code",
   "execution_count": 86,
   "source": [
    "import pandas as pd\n",
    "import numpy as np\n",
    "import scipy.stats as st\n",
    "import matplotlib.pyplot as plt\n",
    "\n",
    "top200 = \"datasets/Top200.csv\"\n",
    "topgenre = \"datasets/Top10000genre.csv\"\n",
    "\n",
    "top200_df = pd.read_csv(top200)\n",
    "topgenre_df = pd.read_csv(topgenre)\n",
    "\n",
    "top200_df = top200_df.drop(columns=['Index','Song ID','Chord','Valence','Duration (ms)','Tempo','Liveness','Acousticness','Speechiness'])\n",
    "topgenre_df = topgenre_df.drop(columns=['track_id','duration_ms','energy','instrumentalness','key','liveness','loudness','mode','speechiness','tempo','time_signature','valence'])\n",
    "# genre = []\n",
    "# genre = (pd.unique(topgenre_df['genre']))\n",
    "# genre200 = []\n",
    "# genre200 = (pd.unique(top200_df['Genre']))\n",
    "# genre200\n",
    "\n",
    "top200_df.columns\n",
    "top200_df.Genre.value_counts()\n",
    "# pop_genre = top200_df[top200_df['Genre'].str.contains('pop')]\n",
    "# pop_genre = top200_df[(top200_df['Genre'].str.contains('pop')) & (top200_df['Genre'].str.len()<2)]\n",
    "top200_df.Genre= top200_df.Genre.str.replace('[','')\n",
    "top200_df.Genre= top200_df.Genre.str.replace(']','')\n",
    "top200_df.Genre = top200_df.Genre.str.split(',')\n",
    "top200_df = top200_df.explode('Genre')\n",
    "top200_df.Genre = top200_df.Genre.str.replace(\"\\'\", \"\")\n",
    "\n",
    "# top200_df.head()\n",
    "\n",
    "\n",
    "# topgenre_df.info()\n"
   ],
   "outputs": [
    {
     "output_type": "stream",
     "name": "stderr",
     "text": [
      "/var/folders/tn/m51dm4nd5wv2rw2867yd_l_h0000gn/T/ipykernel_80235/1174775309.py:24: FutureWarning: The default value of regex will change from True to False in a future version. In addition, single character regular expressions will *not* be treated as literal strings when regex=True.\n",
      "  top200_df.Genre= top200_df.Genre.str.replace('[','')\n",
      "/var/folders/tn/m51dm4nd5wv2rw2867yd_l_h0000gn/T/ipykernel_80235/1174775309.py:25: FutureWarning: The default value of regex will change from True to False in a future version. In addition, single character regular expressions will *not* be treated as literal strings when regex=True.\n",
      "  top200_df.Genre= top200_df.Genre.str.replace(']','')\n"
     ]
    }
   ],
   "metadata": {}
  },
  {
   "cell_type": "code",
   "execution_count": 50,
   "source": [
    "# #sorting music for specific genre\n",
    "pop_genre = top200_df[top200_df.Genre=='pop']\n",
    "hiphop_genre = top200_df[top200_df.Genre=='hip hop']\n",
    "rap_genre = top200_df[top200_df.Genre=='rap']\n",
    "pop_genre.shape[0]\n"
   ],
   "outputs": [],
   "metadata": {}
  },
  {
   "cell_type": "code",
   "execution_count": 76,
   "source": [
    "#sorting music for word included (contains overlap)\n",
    "pop_any = top200_df[top200_df.Genre.str.contains('pop')]\n",
    "hiphop_any = top200_df[top200_df.Genre.str.contains('hip hop')]\n",
    "rap_any = top200_df[top200_df.Genre.str.contains('rap')]\n",
    "rb_any = top200_df[top200_df.Genre.str.contains('r&b')]\n",
    "country_any = top200_df[top200_df.Genre.str.contains('country')]\n",
    "rock_any = top200_df[top200_df.Genre.str.contains('rock')]\n",
    "alt_any = top200_df[top200_df.Genre.str.contains('alternative')]\n",
    "dance_any = top200_df[top200_df.Genre.str.contains('dance')]\n",
    "edm_any = top200_df[top200_df.Genre.str.contains('edm')]\n",
    "# house_any = top200_df[top200_df.Genre.str.contains('house')]\n",
    "# come back and group rest of unique categories\n",
    "jazz_any = top200_df[top200_df.Genre.str.contains('jazz')]\n",
    "indie_any = top200_df[top200_df.Genre.str.contains('indie')]\n",
    "itl_any = top200_df[top200_df.Genre.str.contains('italiano')]\n",
    "span_any = top200_df[top200_df.Genre.str.contains('reggaeton')]\n",
    "trap_any = top200_df[top200_df.Genre.str.contains('trap')]\n",
    "latin_any = top200_df[top200_df.Genre.str.contains('latin')]\n"
   ],
   "outputs": [],
   "metadata": {}
  },
  {
   "cell_type": "code",
   "execution_count": 81,
   "source": [
    "#setting other category \n",
    "genre_list = ['pop','hip hop','rap','r&b','country','rock','alternative','dance','edm','jazz','indie','italiano','reggaeton','trap','latin']\n",
    "pattern = '|'.join(genre_list)\n",
    "result = top200_df.loc[~(top200_df['Genre'].str.contains(pattern, case=False))]\n",
    "other = result\n",
    "other_genre = (pd.unique(result['Genre']))\n",
    "other.nunique()"
   ],
   "outputs": [
    {
     "output_type": "execute_result",
     "data": {
      "text/plain": [
       "Highest Charting Position    179\n",
       "Number of Times Charted       52\n",
       "Week of Highest Charting      79\n",
       "Song Name                    390\n",
       "Streams                      390\n",
       "Artist                       282\n",
       "Artist Followers             231\n",
       "Genre                        136\n",
       "Release Date                 215\n",
       "Weeks Charted                267\n",
       "Popularity                    58\n",
       "Danceability                 274\n",
       "Energy                       286\n",
       "Loudness                     364\n",
       "dtype: int64"
      ]
     },
     "metadata": {},
     "execution_count": 81
    }
   ],
   "metadata": {}
  },
  {
   "cell_type": "code",
   "execution_count": 53,
   "source": [
    "# genre = (pd.unique(top200_df['Genre']))\n",
    "# genre"
   ],
   "outputs": [],
   "metadata": {}
  },
  {
   "cell_type": "markdown",
   "source": [],
   "metadata": {}
  }
 ],
 "metadata": {
  "orig_nbformat": 4,
  "language_info": {
   "name": "python",
   "version": "3.9.6",
   "mimetype": "text/x-python",
   "codemirror_mode": {
    "name": "ipython",
    "version": 3
   },
   "pygments_lexer": "ipython3",
   "nbconvert_exporter": "python",
   "file_extension": ".py"
  },
  "kernelspec": {
   "name": "python3",
   "display_name": "Python 3.9.6 64-bit"
  },
  "interpreter": {
   "hash": "aee8b7b246df8f9039afb4144a1f6fd8d2ca17a180786b69acc140d282b71a49"
  }
 },
 "nbformat": 4,
 "nbformat_minor": 2
}